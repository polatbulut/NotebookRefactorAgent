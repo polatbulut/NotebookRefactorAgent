{
 "cells": [
  {
   "cell_type": "code",
   "execution_count": null,
   "id": "64fdd74d",
   "metadata": {},
   "outputs": [],
   "source": [
    "import math"
   ]
  },
  {
   "cell_type": "code",
   "execution_count": null,
   "id": "aefb2913",
   "metadata": {},
   "outputs": [],
   "source": [
    "z = math.sqrt(9)"
   ]
  }
 ],
 "metadata": {},
 "nbformat": 4,
 "nbformat_minor": 5
}
