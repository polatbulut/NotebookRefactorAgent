{
 "cells": [
  {
   "cell_type": "code",
   "execution_count": null,
   "id": "dfc25de8",
   "metadata": {},
   "outputs": [],
   "source": [
    "def f(x):\n",
    "    return x*2"
   ]
  },
  {
   "cell_type": "code",
   "execution_count": null,
   "id": "0a755ff2",
   "metadata": {},
   "outputs": [],
   "source": [
    "y=f(3)"
   ]
  }
 ],
 "metadata": {},
 "nbformat": 4,
 "nbformat_minor": 5
}
