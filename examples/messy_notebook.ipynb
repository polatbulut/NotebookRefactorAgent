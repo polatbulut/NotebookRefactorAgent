{
 "cells": [
  {
   "cell_type": "code",
   "execution_count": null,
   "id": "80573d09",
   "metadata": {},
   "outputs": [],
   "source": [
    "x = 3"
   ]
  },
  {
   "cell_type": "code",
   "execution_count": null,
   "id": "3e720959",
   "metadata": {},
   "outputs": [],
   "source": [
    "y = input(\"number\")"
   ]
  },
  {
   "cell_type": "code",
   "execution_count": null,
   "id": "119c3ca5",
   "metadata": {},
   "outputs": [],
   "source": [
    "for i in range(y):\n",
    "    print(i * 2)\n"
   ]
  },
  {
   "cell_type": "code",
   "execution_count": null,
   "id": "d95dc796",
   "metadata": {},
   "outputs": [],
   "source": [
    "print('hi')"
   ]
  }
 ],
 "metadata": {
  "language_info": {
   "name": "python"
  }
 },
 "nbformat": 4,
 "nbformat_minor": 5
}
